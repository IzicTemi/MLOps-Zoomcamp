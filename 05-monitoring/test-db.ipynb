{
 "cells": [
  {
   "cell_type": "code",
   "execution_count": 1,
   "metadata": {},
   "outputs": [],
   "source": [
    "import pymongo "
   ]
  },
  {
   "cell_type": "code",
   "execution_count": 12,
   "metadata": {},
   "outputs": [],
   "source": [
    "client = pymongo.MongoClient('mongodb://localhost:27018')\n",
    "db = client.get_database('prediction_service')\n"
   ]
  },
  {
   "cell_type": "code",
   "execution_count": 13,
   "metadata": {},
   "outputs": [],
   "source": [
    "colector = db.get_collection('data')"
   ]
  },
  {
   "cell_type": "code",
   "execution_count": 14,
   "metadata": {},
   "outputs": [],
   "source": [
    "data = list(colector.find())"
   ]
  },
  {
   "cell_type": "code",
   "execution_count": 15,
   "metadata": {},
   "outputs": [
    {
     "data": {
      "text/plain": [
       "{'_id': ObjectId('63063349f727903870b9854b'),\n",
       " 'VendorID': 2,\n",
       " 'lpep_pickup_datetime': '2022-01-01T00:14:21',\n",
       " 'lpep_dropoff_datetime': '2022-01-01T00:15:33',\n",
       " 'store_and_fwd_flag': 'N',\n",
       " 'RatecodeID': 1.0,\n",
       " 'PULocationID': 42,\n",
       " 'DOLocationID': 42,\n",
       " 'passenger_count': 1.0,\n",
       " 'trip_distance': 0.44,\n",
       " 'fare_amount': 3.5,\n",
       " 'extra': 0.5,\n",
       " 'mta_tax': 0.5,\n",
       " 'tip_amount': 0.0,\n",
       " 'tolls_amount': 0.0,\n",
       " 'ehail_fee': None,\n",
       " 'improvement_surcharge': 0.3,\n",
       " 'total_amount': 4.8,\n",
       " 'payment_type': 2.0,\n",
       " 'trip_type': 1.0,\n",
       " 'congestion_surcharge': 0.0,\n",
       " 'id': '3bc97eb5-c81d-4f8b-a7d5-5b82c4cdc116',\n",
       " 'PU_DO': '42_42',\n",
       " 'prediction': 5.1187076614244305}"
      ]
     },
     "execution_count": 15,
     "metadata": {},
     "output_type": "execute_result"
    }
   ],
   "source": [
    "data[0]"
   ]
  },
  {
   "cell_type": "code",
   "execution_count": null,
   "metadata": {},
   "outputs": [],
   "source": []
  }
 ],
 "metadata": {
  "kernelspec": {
   "display_name": "Python 3.10.4 ('05-monitoring-_r6mYim3': pipenv)",
   "language": "python",
   "name": "python3"
  },
  "language_info": {
   "codemirror_mode": {
    "name": "ipython",
    "version": 3
   },
   "file_extension": ".py",
   "mimetype": "text/x-python",
   "name": "python",
   "nbconvert_exporter": "python",
   "pygments_lexer": "ipython3",
   "version": "3.10.4"
  },
  "orig_nbformat": 4,
  "vscode": {
   "interpreter": {
    "hash": "a5f86bbf7dc76a557022fb4f66ecd9e74d88d3ce464464608987d2a1bb37123c"
   }
  }
 },
 "nbformat": 4,
 "nbformat_minor": 2
}
